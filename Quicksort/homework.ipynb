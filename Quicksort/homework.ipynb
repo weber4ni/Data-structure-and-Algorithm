def quicksort(a):
    left = []
    right = []
    middle = []
    
    if len(a)>1:
        
        pivot = a[0]
        for i in a:
            if i < pivot:
                left.append(i)
            elif i == pivot:
                middle.append(i)
            else:
                right.append(i)
    else:
        return a

    return quicksort(left) + middle + quicksort(right)

a = [5,1000,3,55,32,244]
quicksort(a)

