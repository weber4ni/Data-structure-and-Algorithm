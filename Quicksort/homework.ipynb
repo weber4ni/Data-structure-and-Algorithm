def quicksort(list):
    left = []
    right = []
    middle = []
    
    if len(list)>1:
        
        pivot =list[0]
        for i in list:
            if i < pivot:
                left.append(i)
            elif i == pivot:
                middle.append(i)
            else:
                right.append(i)
    else:
        return list

    return quicksort(left) + middle + quicksort(right)

list = [5,2,4,6,1,64,363]
quicksort(list)
