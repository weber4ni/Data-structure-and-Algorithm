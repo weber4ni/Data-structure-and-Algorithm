def quicksort(list):
    left = [ ]
    right = [ ]
    middle = [ ]
    
    if len(list)>1:
        #if條件式只當len裡S的數值只剩1個時，停止分類且return
        pivot = list[0]
        for i in list:
            if i < pivot:
                left.append(i)
            elif i == pivot:
                middle.append(i)
            else:
                right.append(i)
    else:
        return list

    return quicksort(left) + middle + quicksort(right)
